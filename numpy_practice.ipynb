{
  "cells": [
    {
      "cell_type": "code",
      "source": [
        "import numpy as np\n",
        "from numpy import dot\n",
        "from numpy.linalg import norm\n",
        "import pandas as pd\n",
        "import os\n",
        "import sys\n",
        "np.random.seed(42)\n",
        "\n",
        "tests = {\n",
        "    'index_nonzero':[(np.random.choice(range(0, 3), n),) for n in range(1, 11)],\n",
        "    'change_array':[(np.random.choice(range(0, 10), n), 0) for n in range(1, 11)],\n",
        "    'closest_value':[(np.random.choice(range(-10, 10), n), 1.33) for n in range(1, 11)],\n",
        "    'first_odds':[(x,) for x in range(1, 11)],\n",
        "    'diag_prod':[(np.random.choice(range(-10, 10), size=(x, x)),) for x in range(2, 12)],\n",
        "    'antiderivative':[(np.random.choice(range(0, 10), n),) for n in range(1, 11)],\n",
        "    'make_symmetric':[(np.triu(np.random.choice(range(-10, 10), size=(x, x))),) for x in range(2, 12)],\n",
        "    'construct_matrix':[(*np.random.choice(range(1, 5), 2), 7) for _ in range(1, 11)],\n",
        "    'cosine_similarity':[(np.random.normal(size=n), np.random.normal(size=n)) for n in range(2, 12)],\n",
        "}\n",
        "\n",
        "df_tests = pd.DataFrame(data=tests)\n",
        "\n",
        "obj = np.load('test.npz', mmap_mode='r')\n",
        "\n",
        "result = pd.DataFrame([])\n",
        "cnt = -1\n",
        "\n",
        "for func in tests.keys():\n",
        "    for i in range(len(tests[func])):\n",
        "        cnt += 1\n",
        "        test = tests[func][i]\n",
        "        try:\n",
        "            student_answer = getattr(sys.modules[__name__], func)(*test)\n",
        "            right_answer = obj['arr_{}'.format(cnt)]\n",
        "            if func == 'cosine_similarity':\n",
        "                student_answer = round(float(student_answer), 4)\n",
        "                right_answer = round(float(right_answer), 4)\n",
        "            check = student_answer == right_answer\n",
        "            if func == 'antiderivative':\n",
        "                check = check[:-1]\n",
        "            if type(check) == bool:\n",
        "                if check:\n",
        "                    result.at[i, func] = 'OK'\n",
        "                    continue\n",
        "            else:\n",
        "                if (check).all():\n",
        "                    result.at[i, func] = 'OK'\n",
        "                    continue\n",
        "        except Exception as err:\n",
        "            result.at[i, func] = 'ER'\n",
        "            print('Не пройден тест ')\n",
        "            print(func, *test)\n",
        "            print('Ошибка во время исполнения: ', type(err), err)\n",
        "            continue\n",
        "        \n",
        "        print('Не пройден тест {}'.format(cnt + 1))\n",
        "        print(func, *test)\n",
        "        print('Твой ответ: ')\n",
        "        print(student_answer)\n",
        "        print('Должен быть: ')\n",
        "        print(right_answer)\n",
        "        result.at[i, func] = 'WA'"
      ],
      "outputs": [],
      "execution_count": 335,
      "metadata": {
        "colab": {},
        "colab_type": "code",
        "id": "JB4AQfqazeX2",
        "execution": {
          "iopub.status.busy": "2020-04-02T20:40:16.949Z",
          "iopub.execute_input": "2020-04-02T20:40:16.961Z",
          "shell.execute_reply": "2020-04-02T20:40:17.050Z",
          "iopub.status.idle": "2020-04-02T20:40:17.040Z"
        }
      }
    },
    {
      "cell_type": "code",
      "source": [
        "print('''Я, Печерицына Мария, выполнила работу самостоятельно и без использования операторов while,\n",
        "      for, if. Ноутбук прилагаю. Получил следующие результаты:''')\n",
        "result"
      ],
      "outputs": [
        {
          "output_type": "stream",
          "name": "stdout",
          "text": [
            "Я, Печерицына Мария, выполнила работу самостоятельно и без использования операторов while,\n",
            "      for, if. Ноутбук прилагаю. Получил следующие результаты:\n"
          ]
        },
        {
          "output_type": "execute_result",
          "execution_count": 336,
          "data": {
            "text/plain": [
              "  index_nonzero change_array closest_value first_odds diag_prod  \\\n",
              "0            OK           OK            OK         OK        OK   \n",
              "1            OK           OK            OK         OK        OK   \n",
              "2            OK           OK            OK         OK        OK   \n",
              "3            OK           OK            OK         OK        OK   \n",
              "4            OK           OK            OK         OK        OK   \n",
              "5            OK           OK            OK         OK        OK   \n",
              "6            OK           OK            OK         OK        OK   \n",
              "7            OK           OK            OK         OK        OK   \n",
              "8            OK           OK            OK         OK        OK   \n",
              "9            OK           OK            OK         OK        OK   \n",
              "\n",
              "  antiderivative make_symmetric construct_matrix cosine_similarity  \n",
              "0             OK             OK               OK                OK  \n",
              "1             OK             OK               OK                OK  \n",
              "2             OK             OK               OK                OK  \n",
              "3             OK             OK               OK                OK  \n",
              "4             OK             OK               OK                OK  \n",
              "5             OK             OK               OK                OK  \n",
              "6             OK             OK               OK                OK  \n",
              "7             OK             OK               OK                OK  \n",
              "8             OK             OK               OK                OK  \n",
              "9             OK             OK               OK                OK  "
            ],
            "text/html": [
              "<div>\n",
              "<style scoped>\n",
              "    .dataframe tbody tr th:only-of-type {\n",
              "        vertical-align: middle;\n",
              "    }\n",
              "\n",
              "    .dataframe tbody tr th {\n",
              "        vertical-align: top;\n",
              "    }\n",
              "\n",
              "    .dataframe thead th {\n",
              "        text-align: right;\n",
              "    }\n",
              "</style>\n",
              "<table border=\"1\" class=\"dataframe\">\n",
              "  <thead>\n",
              "    <tr style=\"text-align: right;\">\n",
              "      <th></th>\n",
              "      <th>index_nonzero</th>\n",
              "      <th>change_array</th>\n",
              "      <th>closest_value</th>\n",
              "      <th>first_odds</th>\n",
              "      <th>diag_prod</th>\n",
              "      <th>antiderivative</th>\n",
              "      <th>make_symmetric</th>\n",
              "      <th>construct_matrix</th>\n",
              "      <th>cosine_similarity</th>\n",
              "    </tr>\n",
              "  </thead>\n",
              "  <tbody>\n",
              "    <tr>\n",
              "      <th>0</th>\n",
              "      <td>OK</td>\n",
              "      <td>OK</td>\n",
              "      <td>OK</td>\n",
              "      <td>OK</td>\n",
              "      <td>OK</td>\n",
              "      <td>OK</td>\n",
              "      <td>OK</td>\n",
              "      <td>OK</td>\n",
              "      <td>OK</td>\n",
              "    </tr>\n",
              "    <tr>\n",
              "      <th>1</th>\n",
              "      <td>OK</td>\n",
              "      <td>OK</td>\n",
              "      <td>OK</td>\n",
              "      <td>OK</td>\n",
              "      <td>OK</td>\n",
              "      <td>OK</td>\n",
              "      <td>OK</td>\n",
              "      <td>OK</td>\n",
              "      <td>OK</td>\n",
              "    </tr>\n",
              "    <tr>\n",
              "      <th>2</th>\n",
              "      <td>OK</td>\n",
              "      <td>OK</td>\n",
              "      <td>OK</td>\n",
              "      <td>OK</td>\n",
              "      <td>OK</td>\n",
              "      <td>OK</td>\n",
              "      <td>OK</td>\n",
              "      <td>OK</td>\n",
              "      <td>OK</td>\n",
              "    </tr>\n",
              "    <tr>\n",
              "      <th>3</th>\n",
              "      <td>OK</td>\n",
              "      <td>OK</td>\n",
              "      <td>OK</td>\n",
              "      <td>OK</td>\n",
              "      <td>OK</td>\n",
              "      <td>OK</td>\n",
              "      <td>OK</td>\n",
              "      <td>OK</td>\n",
              "      <td>OK</td>\n",
              "    </tr>\n",
              "    <tr>\n",
              "      <th>4</th>\n",
              "      <td>OK</td>\n",
              "      <td>OK</td>\n",
              "      <td>OK</td>\n",
              "      <td>OK</td>\n",
              "      <td>OK</td>\n",
              "      <td>OK</td>\n",
              "      <td>OK</td>\n",
              "      <td>OK</td>\n",
              "      <td>OK</td>\n",
              "    </tr>\n",
              "    <tr>\n",
              "      <th>5</th>\n",
              "      <td>OK</td>\n",
              "      <td>OK</td>\n",
              "      <td>OK</td>\n",
              "      <td>OK</td>\n",
              "      <td>OK</td>\n",
              "      <td>OK</td>\n",
              "      <td>OK</td>\n",
              "      <td>OK</td>\n",
              "      <td>OK</td>\n",
              "    </tr>\n",
              "    <tr>\n",
              "      <th>6</th>\n",
              "      <td>OK</td>\n",
              "      <td>OK</td>\n",
              "      <td>OK</td>\n",
              "      <td>OK</td>\n",
              "      <td>OK</td>\n",
              "      <td>OK</td>\n",
              "      <td>OK</td>\n",
              "      <td>OK</td>\n",
              "      <td>OK</td>\n",
              "    </tr>\n",
              "    <tr>\n",
              "      <th>7</th>\n",
              "      <td>OK</td>\n",
              "      <td>OK</td>\n",
              "      <td>OK</td>\n",
              "      <td>OK</td>\n",
              "      <td>OK</td>\n",
              "      <td>OK</td>\n",
              "      <td>OK</td>\n",
              "      <td>OK</td>\n",
              "      <td>OK</td>\n",
              "    </tr>\n",
              "    <tr>\n",
              "      <th>8</th>\n",
              "      <td>OK</td>\n",
              "      <td>OK</td>\n",
              "      <td>OK</td>\n",
              "      <td>OK</td>\n",
              "      <td>OK</td>\n",
              "      <td>OK</td>\n",
              "      <td>OK</td>\n",
              "      <td>OK</td>\n",
              "      <td>OK</td>\n",
              "    </tr>\n",
              "    <tr>\n",
              "      <th>9</th>\n",
              "      <td>OK</td>\n",
              "      <td>OK</td>\n",
              "      <td>OK</td>\n",
              "      <td>OK</td>\n",
              "      <td>OK</td>\n",
              "      <td>OK</td>\n",
              "      <td>OK</td>\n",
              "      <td>OK</td>\n",
              "      <td>OK</td>\n",
              "    </tr>\n",
              "  </tbody>\n",
              "</table>\n",
              "</div>"
            ]
          },
          "metadata": {}
        }
      ],
      "execution_count": 336,
      "metadata": {
        "collapsed": false,
        "jupyter": {
          "source_hidden": false,
          "outputs_hidden": false
        },
        "nteract": {
          "transient": {
            "deleting": false
          }
        },
        "execution": {
          "iopub.status.busy": "2020-04-02T20:40:19.207Z",
          "iopub.execute_input": "2020-04-02T20:40:19.216Z",
          "iopub.status.idle": "2020-04-02T20:40:19.243Z",
          "shell.execute_reply": "2020-04-02T20:40:19.254Z"
        }
      }
    },
    {
      "cell_type": "markdown",
      "source": [
        "Во всех задачах необходимо написать код решения внутри функции и проверить его работу, вызвав функцию для данных из условия.\n",
        "\n",
        "При решении задач запрещается использовать циклы (`for`, `while`) и оператор `if` (даже внутри генераторов).\n",
        "\n",
        "Везде, где встречаются массивы или матрицы, подразумевается, что это `numpy.array`. "
      ],
      "metadata": {
        "colab_type": "text",
        "id": "XmS7sT_SzeYE"
      }
    },
    {
      "cell_type": "markdown",
      "source": [
        "### 1"
      ],
      "metadata": {
        "colab_type": "text",
        "id": "HG79oHrvzeYI"
      }
    },
    {
      "cell_type": "markdown",
      "source": [
        "Напишите функцию, которая возвращает индексы ненулевых элементов. Например, если на вход поступает массив `array([1, 2, 0, 0, 4, 0])`, то на выходе должен получиться массив `array([0, 1, 4])`.\n",
        "\n",
        "_Функции, которые могут пригодиться при решении: `.where()`, `.nonzero()`_"
      ],
      "metadata": {
        "colab_type": "text",
        "id": "_PHTAUNHzeYK"
      }
    },
    {
      "cell_type": "code",
      "source": [
        "def index_nonzero(a):\n",
        "    return a.nonzero()[0]"
      ],
      "outputs": [],
      "execution_count": 53,
      "metadata": {
        "colab": {},
        "colab_type": "code",
        "id": "apvkxR7ZzeYM",
        "execution": {
          "shell.execute_reply": "2020-03-30T22:25:44.468Z",
          "iopub.status.busy": "2020-03-30T22:25:44.446Z",
          "iopub.execute_input": "2020-03-30T22:25:44.452Z",
          "iopub.status.idle": "2020-03-30T22:25:44.462Z"
        }
      }
    },
    {
      "cell_type": "code",
      "source": [
        "#Проверьте корректность работы функции"
      ],
      "outputs": [],
      "execution_count": 23,
      "metadata": {
        "colab": {},
        "colab_type": "code",
        "id": "t_8zj3vdzeYS",
        "execution": {
          "iopub.status.busy": "2020-03-30T20:52:01.511Z",
          "iopub.execute_input": "2020-03-30T20:52:01.516Z",
          "iopub.status.idle": "2020-03-30T20:52:01.526Z",
          "shell.execute_reply": "2020-03-30T20:52:01.532Z"
        }
      }
    },
    {
      "cell_type": "code",
      "source": [
        "a = np.array([1, 2, 0, 0, 4, 0])"
      ],
      "outputs": [],
      "execution_count": 54,
      "metadata": {
        "collapsed": false,
        "jupyter": {
          "source_hidden": false,
          "outputs_hidden": false
        },
        "nteract": {
          "transient": {
            "deleting": false
          }
        },
        "execution": {
          "iopub.status.busy": "2020-03-30T22:25:50.157Z",
          "iopub.execute_input": "2020-03-30T22:25:50.164Z",
          "iopub.status.idle": "2020-03-30T22:25:50.174Z",
          "shell.execute_reply": "2020-03-30T22:25:50.182Z"
        }
      }
    },
    {
      "cell_type": "code",
      "source": [
        "index_nonzero(a)"
      ],
      "outputs": [
        {
          "output_type": "execute_result",
          "execution_count": 55,
          "data": {
            "text/plain": [
              "array([0, 1, 4])"
            ]
          },
          "metadata": {}
        }
      ],
      "execution_count": 55,
      "metadata": {
        "collapsed": false,
        "jupyter": {
          "source_hidden": false,
          "outputs_hidden": false
        },
        "nteract": {
          "transient": {
            "deleting": false
          }
        },
        "execution": {
          "iopub.status.busy": "2020-03-30T22:25:52.782Z",
          "iopub.execute_input": "2020-03-30T22:25:52.788Z",
          "iopub.status.idle": "2020-03-30T22:25:52.803Z",
          "shell.execute_reply": "2020-03-30T22:25:52.810Z"
        }
      }
    },
    {
      "cell_type": "markdown",
      "source": [
        "### 2"
      ],
      "metadata": {
        "colab_type": "text",
        "id": "rB0KdDEszeYY"
      }
    },
    {
      "cell_type": "markdown",
      "source": [
        "Напишите функцию, меняющую все четные значения массива целых чисел на заданное число. Например, если на вход поступает массив `array([3, 5, 1, 0, -3, 22, 213436])` и число `-111`, то на выходе должен получиться массив `array([   3,    5,    1, -111,   -3, -111, -111])`."
      ],
      "metadata": {
        "colab_type": "text",
        "id": "MS_QxUQ_zeYb"
      }
    },
    {
      "cell_type": "code",
      "source": [
        "def change_array(array, number):\n",
        "    return np.where(array % 2 == 0, number, array)\n",
        "    #ваш код здесь "
      ],
      "outputs": [],
      "execution_count": 277,
      "metadata": {
        "colab": {},
        "colab_type": "code",
        "id": "5p0L-999zeYd",
        "execution": {
          "iopub.status.busy": "2020-04-02T20:00:41.920Z",
          "iopub.execute_input": "2020-04-02T20:00:41.931Z",
          "iopub.status.idle": "2020-04-02T20:00:41.948Z",
          "shell.execute_reply": "2020-04-02T20:00:41.958Z"
        }
      }
    },
    {
      "cell_type": "code",
      "source": [
        "#Проверьте корректность работы функции"
      ],
      "outputs": [],
      "execution_count": 6,
      "metadata": {
        "colab": {},
        "colab_type": "code",
        "id": "r_xjCl65zeYr"
      }
    },
    {
      "cell_type": "code",
      "source": [
        "a = np.array([3, 5, 1, 0, -3, 22, 213436])"
      ],
      "outputs": [],
      "execution_count": 283,
      "metadata": {
        "collapsed": false,
        "jupyter": {
          "source_hidden": false,
          "outputs_hidden": false
        },
        "nteract": {
          "transient": {
            "deleting": false
          }
        },
        "execution": {
          "iopub.status.busy": "2020-04-02T20:04:37.361Z",
          "iopub.execute_input": "2020-04-02T20:04:37.372Z",
          "iopub.status.idle": "2020-04-02T20:04:37.387Z",
          "shell.execute_reply": "2020-04-02T20:04:37.396Z"
        }
      }
    },
    {
      "cell_type": "code",
      "source": [
        "n = -111"
      ],
      "outputs": [],
      "execution_count": 282,
      "metadata": {
        "collapsed": false,
        "jupyter": {
          "source_hidden": false,
          "outputs_hidden": false
        },
        "nteract": {
          "transient": {
            "deleting": false
          }
        },
        "execution": {
          "iopub.status.busy": "2020-04-02T20:04:34.915Z",
          "iopub.execute_input": "2020-04-02T20:04:34.925Z",
          "iopub.status.idle": "2020-04-02T20:04:34.941Z",
          "shell.execute_reply": "2020-04-02T20:04:34.952Z"
        }
      }
    },
    {
      "cell_type": "code",
      "source": [
        "change_array(a, n)"
      ],
      "outputs": [
        {
          "output_type": "execute_result",
          "execution_count": 284,
          "data": {
            "text/plain": [
              "array([   3,    5,    1, -111,   -3, -111, -111])"
            ]
          },
          "metadata": {}
        }
      ],
      "execution_count": 284,
      "metadata": {
        "collapsed": false,
        "jupyter": {
          "source_hidden": false,
          "outputs_hidden": false
        },
        "nteract": {
          "transient": {
            "deleting": false
          }
        },
        "execution": {
          "iopub.status.busy": "2020-04-02T20:04:39.977Z",
          "iopub.execute_input": "2020-04-02T20:04:39.988Z",
          "iopub.status.idle": "2020-04-02T20:04:40.009Z",
          "shell.execute_reply": "2020-04-02T20:04:40.018Z"
        }
      }
    },
    {
      "cell_type": "markdown",
      "source": [
        "### 3"
      ],
      "metadata": {
        "colab_type": "text",
        "id": "bCSp58CPzeYy"
      }
    },
    {
      "cell_type": "markdown",
      "source": [
        "Напишите функцию, вычисляющую самое близкое и самое дальнее числа к данному в рассматриваемом массиве чисел. Например, если на вход поступают массив `array([0, 1, 2, 3, 4])` и число 1.33, то ответом будет `(1, 4)`. В случае неоднозначного ответа должно выводиться число с наименьшим индексом.\n",
        "\n",
        "_Функции, которые могут пригодиться при решении: `.abs()`, `.argmax()`, `.argmin()`_"
      ],
      "metadata": {
        "colab_type": "text",
        "id": "eAd8LOmRzeYz"
      }
    },
    {
      "cell_type": "code",
      "source": [
        "def closest_value(array, value):\n",
        "    min = np.abs(array - value).argmin()\n",
        "    max = np.abs(array - value).argmax()\n",
        "    return (array[min], array[max])\n",
        "    #ваш код здесь"
      ],
      "outputs": [],
      "execution_count": 308,
      "metadata": {
        "colab": {},
        "colab_type": "code",
        "id": "BGFKV8GazeY1",
        "execution": {
          "iopub.status.busy": "2020-04-02T20:15:31.809Z",
          "iopub.execute_input": "2020-04-02T20:15:31.818Z",
          "iopub.status.idle": "2020-04-02T20:15:31.835Z",
          "shell.execute_reply": "2020-04-02T20:15:31.844Z"
        }
      }
    },
    {
      "cell_type": "code",
      "source": [
        "#Проверьте корректность работы функции"
      ],
      "outputs": [],
      "execution_count": 8,
      "metadata": {
        "colab": {},
        "colab_type": "code",
        "id": "1G7BOUcfzeY7"
      }
    },
    {
      "cell_type": "code",
      "source": [
        "a = np.array([0, 1, 2, 3, 4])"
      ],
      "outputs": [],
      "execution_count": 312,
      "metadata": {
        "collapsed": false,
        "jupyter": {
          "source_hidden": false,
          "outputs_hidden": false
        },
        "nteract": {
          "transient": {
            "deleting": false
          }
        },
        "execution": {
          "iopub.status.busy": "2020-04-02T20:16:40.338Z",
          "iopub.execute_input": "2020-04-02T20:16:40.347Z",
          "iopub.status.idle": "2020-04-02T20:16:40.362Z",
          "shell.execute_reply": "2020-04-02T20:16:40.373Z"
        }
      }
    },
    {
      "cell_type": "code",
      "source": [
        "v = 1.33"
      ],
      "outputs": [],
      "execution_count": 311,
      "metadata": {
        "collapsed": false,
        "jupyter": {
          "source_hidden": false,
          "outputs_hidden": false
        },
        "nteract": {
          "transient": {
            "deleting": false
          }
        },
        "execution": {
          "iopub.status.busy": "2020-04-02T20:16:37.852Z",
          "iopub.execute_input": "2020-04-02T20:16:37.861Z",
          "iopub.status.idle": "2020-04-02T20:16:37.876Z",
          "shell.execute_reply": "2020-04-02T20:16:37.885Z"
        }
      }
    },
    {
      "cell_type": "code",
      "source": [
        "closest_value(a, v)"
      ],
      "outputs": [
        {
          "output_type": "execute_result",
          "execution_count": 313,
          "data": {
            "text/plain": [
              "(1, 4)"
            ]
          },
          "metadata": {}
        }
      ],
      "execution_count": 313,
      "metadata": {
        "collapsed": false,
        "jupyter": {
          "source_hidden": false,
          "outputs_hidden": false
        },
        "nteract": {
          "transient": {
            "deleting": false
          }
        },
        "execution": {
          "iopub.status.busy": "2020-04-02T20:16:42.441Z",
          "iopub.execute_input": "2020-04-02T20:16:42.450Z",
          "iopub.status.idle": "2020-04-02T20:16:42.470Z",
          "shell.execute_reply": "2020-04-02T20:16:42.479Z"
        }
      }
    },
    {
      "cell_type": "markdown",
      "source": [
        "### 4"
      ],
      "metadata": {
        "colab_type": "text",
        "id": "gWP10k8YzeZA"
      }
    },
    {
      "cell_type": "markdown",
      "source": [
        "Напишите функцию, создающую массив первых n нечетных чисел, записанных в порядке убывания. Например, если `n=5`, то ответом будет `array([9, 7, 5, 3, 1])`.\n",
        "\n",
        "*Функции, которые могут пригодиться при решении: `.arange()`*"
      ],
      "metadata": {
        "colab_type": "text",
        "id": "i3OVNo2QzeZC"
      }
    },
    {
      "cell_type": "code",
      "source": [
        "def first_odds(n):\n",
        "    return np.flip(np.arange(1,  2*n, 2))\n",
        "    #ваш код здесь"
      ],
      "outputs": [],
      "execution_count": 119,
      "metadata": {
        "colab": {},
        "colab_type": "code",
        "id": "_dLI7oBqzeZE",
        "execution": {
          "iopub.status.busy": "2020-03-31T13:15:14.283Z",
          "iopub.execute_input": "2020-03-31T13:15:14.291Z",
          "iopub.status.idle": "2020-03-31T13:15:14.302Z",
          "shell.execute_reply": "2020-03-31T13:15:14.309Z"
        }
      }
    },
    {
      "cell_type": "code",
      "source": [
        "#Проверьте корректность работы функции"
      ],
      "outputs": [],
      "execution_count": 10,
      "metadata": {
        "colab": {},
        "colab_type": "code",
        "id": "-znVTk7NzeZM"
      }
    },
    {
      "cell_type": "code",
      "source": [
        "n = 5"
      ],
      "outputs": [],
      "execution_count": 131,
      "metadata": {
        "collapsed": false,
        "jupyter": {
          "source_hidden": false,
          "outputs_hidden": false
        },
        "nteract": {
          "transient": {
            "deleting": false
          }
        },
        "execution": {
          "iopub.status.busy": "2020-03-31T13:25:21.368Z",
          "iopub.execute_input": "2020-03-31T13:25:21.376Z",
          "iopub.status.idle": "2020-03-31T13:25:21.388Z",
          "shell.execute_reply": "2020-03-31T13:25:21.395Z"
        }
      }
    },
    {
      "cell_type": "code",
      "source": [
        "first_odds(n)"
      ],
      "outputs": [
        {
          "output_type": "execute_result",
          "execution_count": 132,
          "data": {
            "text/plain": [
              "array([9, 7, 5, 3, 1])"
            ]
          },
          "metadata": {}
        }
      ],
      "execution_count": 132,
      "metadata": {
        "collapsed": false,
        "jupyter": {
          "source_hidden": false,
          "outputs_hidden": false
        },
        "nteract": {
          "transient": {
            "deleting": false
          }
        },
        "execution": {
          "iopub.status.busy": "2020-03-31T13:25:21.791Z",
          "iopub.execute_input": "2020-03-31T13:25:21.800Z",
          "iopub.status.idle": "2020-03-31T13:25:21.817Z",
          "shell.execute_reply": "2020-03-31T13:25:21.825Z"
        }
      }
    },
    {
      "cell_type": "markdown",
      "source": [
        "### 5"
      ],
      "metadata": {
        "colab_type": "text",
        "id": "SY6JvFKQzeZQ"
      }
    },
    {
      "cell_type": "markdown",
      "source": [
        "Напишите функцию, вычисляющую произведение всех ненулевых диагональных элементов на диагонали данной квадратной матрицы. Например, если на вход поступает матрица\n",
        "$$\n",
        "\\begin{pmatrix}\n",
        "0 & 1 & 2\\\\\n",
        "3 & 4 & 5\\\\\n",
        "6 & 7 & 8\\\\\n",
        "\\end{pmatrix},\n",
        "$$\n",
        "то ответом будет 32.\n",
        "\n",
        "_Функции, которые могут пригодиться при решении: `.diagonal()`, `.prod()`_"
      ],
      "metadata": {
        "colab_type": "text",
        "id": "CHYmVwnuzeZS"
      }
    },
    {
      "cell_type": "code",
      "source": [
        "def diag_prod(matrix):\n",
        "    diag = np.diagonal(matrix)\n",
        "    return np.prod(diag[diag != 0])\n",
        "    #ваш код здесь"
      ],
      "outputs": [],
      "execution_count": 158,
      "metadata": {
        "colab": {},
        "colab_type": "code",
        "id": "yOWJk8sazeZT",
        "execution": {
          "iopub.status.busy": "2020-03-31T13:56:05.154Z",
          "iopub.execute_input": "2020-03-31T13:56:05.163Z",
          "iopub.status.idle": "2020-03-31T13:56:05.175Z",
          "shell.execute_reply": "2020-03-31T13:56:05.182Z"
        }
      }
    },
    {
      "cell_type": "code",
      "source": [
        "#Проверьте корректность работы функции"
      ],
      "outputs": [],
      "execution_count": 154,
      "metadata": {
        "colab": {},
        "colab_type": "code",
        "id": "v4eeMge_zeZZ",
        "execution": {
          "iopub.status.busy": "2020-03-31T13:53:26.316Z",
          "iopub.execute_input": "2020-03-31T13:53:26.326Z",
          "iopub.status.idle": "2020-03-31T13:53:26.337Z",
          "shell.execute_reply": "2020-03-31T13:53:26.345Z"
        }
      }
    },
    {
      "cell_type": "code",
      "source": [
        "matrix = np.matrix([[0, 1, 2], [3, 4, 5], [6, 7, 8]])"
      ],
      "outputs": [],
      "execution_count": 163,
      "metadata": {
        "collapsed": false,
        "jupyter": {
          "source_hidden": false,
          "outputs_hidden": false
        },
        "nteract": {
          "transient": {
            "deleting": false
          }
        },
        "execution": {
          "iopub.status.busy": "2020-03-31T13:56:30.144Z",
          "iopub.execute_input": "2020-03-31T13:56:30.154Z",
          "iopub.status.idle": "2020-03-31T13:56:30.168Z",
          "shell.execute_reply": "2020-03-31T13:56:30.176Z"
        }
      }
    },
    {
      "cell_type": "code",
      "source": [
        "diag_prod(matrix)"
      ],
      "outputs": [
        {
          "output_type": "execute_result",
          "execution_count": 164,
          "data": {
            "text/plain": [
              "32"
            ]
          },
          "metadata": {}
        }
      ],
      "execution_count": 164,
      "metadata": {
        "collapsed": false,
        "jupyter": {
          "source_hidden": false,
          "outputs_hidden": false
        },
        "nteract": {
          "transient": {
            "deleting": false
          }
        },
        "execution": {
          "iopub.status.busy": "2020-03-31T13:56:30.490Z",
          "iopub.execute_input": "2020-03-31T13:56:30.498Z",
          "iopub.status.idle": "2020-03-31T13:56:30.513Z",
          "shell.execute_reply": "2020-03-31T13:56:30.522Z"
        }
      }
    },
    {
      "cell_type": "markdown",
      "source": [
        "### 6"
      ],
      "metadata": {
        "colab_type": "text",
        "id": "OoLXmTECzeZg"
      }
    },
    {
      "cell_type": "markdown",
      "source": [
        "Напишите функцию, вычисляющую какую-нибудь первообразную данного полинома (в качестве константы возьмите ваше любимое число). Например, если на вход поступает массив коэффициентов `array([4, 6, 0, 1])`, что соответствует полиному $4x^3 + 6x^2 + 1$, на выходе получается массив коэффициентов `array([1, 2, 0, 1, -2])`, соответствующий полиному $x^4 + 2x^3 + x - 2$.\n",
        "\n",
        "_Функции, которые могут пригодиться при решении: `.append()`_"
      ],
      "metadata": {
        "colab_type": "text",
        "id": "e6h7CKWPzeZj"
      }
    },
    {
      "cell_type": "code",
      "source": [
        "def antiderivative(coefs):\n",
        "    return np.polyint(coefs)\n",
        "    #ваш код здесь"
      ],
      "outputs": [],
      "execution_count": 170,
      "metadata": {
        "colab": {},
        "colab_type": "code",
        "id": "p7WWjuauzeZl",
        "execution": {
          "iopub.status.busy": "2020-04-02T00:27:47.726Z",
          "iopub.execute_input": "2020-04-02T00:27:47.734Z",
          "iopub.status.idle": "2020-04-02T00:27:47.748Z",
          "shell.execute_reply": "2020-04-02T00:27:47.756Z"
        }
      }
    },
    {
      "cell_type": "code",
      "source": [
        "#Проверьте корректность работы функции"
      ],
      "outputs": [],
      "execution_count": 14,
      "metadata": {
        "colab": {},
        "colab_type": "code",
        "id": "hXzhGgRRzeZt"
      }
    },
    {
      "cell_type": "code",
      "source": [
        "a = np.array([4, 6, 0, 1])"
      ],
      "outputs": [],
      "execution_count": 166,
      "metadata": {
        "collapsed": false,
        "jupyter": {
          "source_hidden": false,
          "outputs_hidden": false
        },
        "nteract": {
          "transient": {
            "deleting": false
          }
        },
        "execution": {
          "iopub.status.busy": "2020-04-01T14:05:04.525Z",
          "iopub.execute_input": "2020-04-01T14:05:04.534Z",
          "iopub.status.idle": "2020-04-01T14:05:04.547Z",
          "shell.execute_reply": "2020-04-01T14:05:04.556Z"
        }
      }
    },
    {
      "cell_type": "code",
      "source": [
        "antiderivative(a)"
      ],
      "outputs": [
        {
          "output_type": "execute_result",
          "execution_count": 171,
          "data": {
            "text/plain": [
              "array([1., 2., 0., 1., 0.])"
            ]
          },
          "metadata": {}
        }
      ],
      "execution_count": 171,
      "metadata": {
        "collapsed": false,
        "jupyter": {
          "source_hidden": false,
          "outputs_hidden": false
        },
        "nteract": {
          "transient": {
            "deleting": false
          }
        },
        "execution": {
          "iopub.status.busy": "2020-04-02T00:27:50.221Z",
          "iopub.execute_input": "2020-04-02T00:27:50.229Z",
          "iopub.status.idle": "2020-04-02T00:27:50.247Z",
          "shell.execute_reply": "2020-04-02T00:27:50.255Z"
        }
      }
    },
    {
      "cell_type": "markdown",
      "source": [
        "### 7"
      ],
      "metadata": {
        "colab_type": "text",
        "id": "sfwq0O83zeZz"
      }
    },
    {
      "cell_type": "markdown",
      "source": [
        "Напишите функцию, делающую данную [треугольную матрицу](https://ru.wikipedia.org/wiki/%D0%A2%D1%80%D0%B5%D1%83%D0%B3%D0%BE%D0%BB%D1%8C%D0%BD%D0%B0%D1%8F_%D0%BC%D0%B0%D1%82%D1%80%D0%B8%D1%86%D0%B0) симметричной. Например, если на вход поступает матрица\n",
        "$$\n",
        "\\begin{pmatrix}\n",
        "1 & 2 & 3 & 4\\\\\n",
        "0 & 5 & 6 & 7\\\\\n",
        "0 & 0 & 8 & 9\\\\\n",
        "0 & 0 & 0 & 10\\\\\n",
        "\\end{pmatrix},\n",
        "$$\n",
        "то на выходе должна быть матрица\n",
        "$$\n",
        "\\begin{pmatrix}\n",
        "1 & 2 & 3 & 4\\\\\n",
        "2 & 5 & 6 & 7\\\\\n",
        "3 & 6 & 8 & 9\\\\\n",
        "4 & 7 & 9 & 10\\\\\n",
        "\\end{pmatrix}.\n",
        "$$\n",
        "\n",
        "_Функции, которые могут пригодиться при решении: `.diag()`, `.diagonal()`, `.T`_"
      ],
      "metadata": {
        "colab_type": "text",
        "id": "7UIYwro2zeZ0"
      }
    },
    {
      "cell_type": "code",
      "source": [
        "def make_symmetric(matrix):\n",
        "    return matrix + matrix.T - np.diag(np.diag(matrix))\n",
        "    #ваш код здесь"
      ],
      "outputs": [],
      "execution_count": 318,
      "metadata": {
        "colab": {},
        "colab_type": "code",
        "id": "2PlEpbZEzeZ1",
        "execution": {
          "iopub.status.busy": "2020-04-02T20:30:39.988Z",
          "iopub.execute_input": "2020-04-02T20:30:39.997Z",
          "iopub.status.idle": "2020-04-02T20:30:40.012Z",
          "shell.execute_reply": "2020-04-02T20:30:40.022Z"
        }
      }
    },
    {
      "cell_type": "code",
      "source": [
        "#Проверьте корректность работы функции"
      ],
      "outputs": [],
      "execution_count": 16,
      "metadata": {
        "colab": {},
        "colab_type": "code",
        "id": "bEET1IlxzeZ6"
      }
    },
    {
      "cell_type": "code",
      "source": [
        "m = np.matrix([[1, 2, 3, 4], [0, 5, 6, 7], [0, 0, 8, 9], [0, 0, 0, 10]])"
      ],
      "outputs": [],
      "execution_count": 319,
      "metadata": {
        "collapsed": false,
        "jupyter": {
          "source_hidden": false,
          "outputs_hidden": false
        },
        "nteract": {
          "transient": {
            "deleting": false
          }
        },
        "execution": {
          "iopub.status.busy": "2020-04-02T20:30:44.149Z",
          "iopub.execute_input": "2020-04-02T20:30:44.157Z",
          "iopub.status.idle": "2020-04-02T20:30:44.173Z",
          "shell.execute_reply": "2020-04-02T20:30:44.182Z"
        }
      }
    },
    {
      "cell_type": "code",
      "source": [
        "make_symmetric(m)"
      ],
      "outputs": [
        {
          "output_type": "execute_result",
          "execution_count": 320,
          "data": {
            "text/plain": [
              "matrix([[ 1,  2,  3,  4],\n",
              "        [ 2,  5,  6,  7],\n",
              "        [ 3,  6,  8,  9],\n",
              "        [ 4,  7,  9, 10]])"
            ]
          },
          "metadata": {}
        }
      ],
      "execution_count": 320,
      "metadata": {
        "collapsed": false,
        "jupyter": {
          "source_hidden": false,
          "outputs_hidden": false
        },
        "nteract": {
          "transient": {
            "deleting": false
          }
        },
        "execution": {
          "iopub.status.busy": "2020-04-02T20:30:44.660Z",
          "iopub.execute_input": "2020-04-02T20:30:44.669Z",
          "iopub.status.idle": "2020-04-02T20:30:44.688Z",
          "shell.execute_reply": "2020-04-02T20:30:44.697Z"
        }
      }
    },
    {
      "cell_type": "markdown",
      "source": [
        "### 8"
      ],
      "metadata": {
        "colab_type": "text",
        "id": "LPydy98OzeZ_"
      }
    },
    {
      "cell_type": "markdown",
      "source": [
        "Напишите функцию, создающую прямоугольную матрицу из m одинаковых строк, заполненных последовательными натуральными числами от a до b включительно в возрастающем порядке. Например, если m = 5, a = 3, b = 10, то на выходе будет матрица\n",
        "$$\n",
        "\\begin{pmatrix}\n",
        "3 & 4 & 5 & 6 & 7 & 8 & 9 & 10\\\\\n",
        "3 & 4 & 5 & 6 & 7 & 8 & 9 & 10\\\\\n",
        "3 & 4 & 5 & 6 & 7 & 8 & 9 & 10\\\\\n",
        "3 & 4 & 5 & 6 & 7 & 8 & 9 & 10\\\\\n",
        "3 & 4 & 5 & 6 & 7 & 8 & 9 & 10\\\\\n",
        "\\end{pmatrix}\n",
        "$$\n",
        "\n",
        "_Функции, которые могут пригодиться при решении: `.arange()`, `.zeros()`, а также [broadcasting rules](https://docs.scipy.org/doc/numpy-1.15.0/user/basics.broadcasting.html)._"
      ],
      "metadata": {
        "colab_type": "text",
        "id": "h-mIqwJYzeaC"
      }
    },
    {
      "cell_type": "code",
      "source": [
        "def construct_matrix(m, a, b):\n",
        "    zero_mat = np.zeros((m, b-a+1), int)\n",
        "    line = np.arange(a, b+1)\n",
        "    return np.asmatrix(zero_mat+line)\n",
        "    #ваш код здесь"
      ],
      "outputs": [],
      "execution_count": 203,
      "metadata": {
        "colab": {},
        "colab_type": "code",
        "id": "jv2h0u24zeaE",
        "execution": {
          "iopub.status.busy": "2020-04-02T19:10:31.656Z",
          "iopub.execute_input": "2020-04-02T19:10:31.666Z",
          "iopub.status.idle": "2020-04-02T19:10:31.680Z",
          "shell.execute_reply": "2020-04-02T19:10:31.690Z"
        }
      }
    },
    {
      "cell_type": "code",
      "source": [
        "#Проверьте корректность работы функции"
      ],
      "outputs": [],
      "execution_count": 18,
      "metadata": {
        "colab": {},
        "colab_type": "code",
        "id": "eq0XURuYzeaJ",
        "scrolled": true
      }
    },
    {
      "cell_type": "code",
      "source": [
        "m = 5"
      ],
      "outputs": [],
      "execution_count": 195,
      "metadata": {
        "collapsed": false,
        "jupyter": {
          "source_hidden": false,
          "outputs_hidden": false
        },
        "nteract": {
          "transient": {
            "deleting": false
          }
        },
        "execution": {
          "iopub.status.busy": "2020-04-02T19:06:17.310Z",
          "iopub.execute_input": "2020-04-02T19:06:17.319Z",
          "iopub.status.idle": "2020-04-02T19:06:17.333Z",
          "shell.execute_reply": "2020-04-02T19:06:17.343Z"
        }
      }
    },
    {
      "cell_type": "code",
      "source": [
        "a = 3"
      ],
      "outputs": [],
      "execution_count": 196,
      "metadata": {
        "collapsed": false,
        "jupyter": {
          "source_hidden": false,
          "outputs_hidden": false
        },
        "nteract": {
          "transient": {
            "deleting": false
          }
        },
        "execution": {
          "iopub.status.busy": "2020-04-02T19:06:17.522Z",
          "iopub.execute_input": "2020-04-02T19:06:17.530Z",
          "iopub.status.idle": "2020-04-02T19:06:17.545Z",
          "shell.execute_reply": "2020-04-02T19:06:17.554Z"
        }
      }
    },
    {
      "cell_type": "code",
      "source": [
        "b = 10"
      ],
      "outputs": [],
      "execution_count": 197,
      "metadata": {
        "collapsed": false,
        "jupyter": {
          "source_hidden": false,
          "outputs_hidden": false
        },
        "nteract": {
          "transient": {
            "deleting": false
          }
        },
        "execution": {
          "iopub.status.busy": "2020-04-02T19:06:17.783Z",
          "iopub.execute_input": "2020-04-02T19:06:17.792Z",
          "iopub.status.idle": "2020-04-02T19:06:17.807Z",
          "shell.execute_reply": "2020-04-02T19:06:17.815Z"
        }
      }
    },
    {
      "cell_type": "code",
      "source": [
        "construct_matrix(m, a, b)"
      ],
      "outputs": [
        {
          "output_type": "execute_result",
          "execution_count": 204,
          "data": {
            "text/plain": [
              "matrix([[ 3,  4,  5,  6,  7,  8,  9, 10],\n",
              "        [ 3,  4,  5,  6,  7,  8,  9, 10],\n",
              "        [ 3,  4,  5,  6,  7,  8,  9, 10],\n",
              "        [ 3,  4,  5,  6,  7,  8,  9, 10],\n",
              "        [ 3,  4,  5,  6,  7,  8,  9, 10]])"
            ]
          },
          "metadata": {}
        }
      ],
      "execution_count": 204,
      "metadata": {
        "collapsed": false,
        "jupyter": {
          "source_hidden": false,
          "outputs_hidden": false
        },
        "nteract": {
          "transient": {
            "deleting": false
          }
        },
        "execution": {
          "iopub.status.busy": "2020-04-02T19:10:34.370Z",
          "iopub.execute_input": "2020-04-02T19:10:34.378Z",
          "iopub.status.idle": "2020-04-02T19:10:34.397Z",
          "shell.execute_reply": "2020-04-02T19:10:34.405Z"
        }
      }
    },
    {
      "cell_type": "markdown",
      "source": [
        "### 9"
      ],
      "metadata": {
        "colab_type": "text",
        "id": "UA8iiSLKzeaQ"
      }
    },
    {
      "cell_type": "markdown",
      "source": [
        "Напишите функцию, вычисляющую [косинусную близость](https://en.wikipedia.org/wiki/Cosine_similarity) двух векторов. Например, если на вход поступают вектора `array([-2, 1, 0, -5, 4, 3, -3])` и `array([0, 2, -2, 10, 6, 0, 0])`, ответом будет -0.25.\n",
        "\n",
        "_Функции, которые могут пригодиться при решении: `.dot()`, `.norm()`, `.sum()`_"
      ],
      "metadata": {
        "colab_type": "text",
        "id": "FJhbJkyxzeaR"
      }
    },
    {
      "cell_type": "code",
      "source": [
        "def cosine_similarity(vec1, vec2):\n",
        "    return dot(vec1, vec2)/(norm(vec1)*norm(vec2))\n",
        "    #ваш код здесь"
      ],
      "outputs": [],
      "execution_count": 331,
      "metadata": {
        "colab": {},
        "colab_type": "code",
        "id": "_yEiuq3VzeaT",
        "execution": {
          "iopub.status.busy": "2020-04-02T20:40:06.139Z",
          "iopub.execute_input": "2020-04-02T20:40:06.148Z",
          "iopub.status.idle": "2020-04-02T20:40:06.165Z",
          "shell.execute_reply": "2020-04-02T20:40:06.175Z"
        }
      }
    },
    {
      "cell_type": "code",
      "source": [
        "#Проверьте корректность работы функции"
      ],
      "outputs": [],
      "execution_count": 20,
      "metadata": {
        "colab": {},
        "colab_type": "code",
        "id": "otWnUjupzeaY"
      }
    },
    {
      "cell_type": "code",
      "source": [
        "vec1 = np.array([-2, 1, 0, -5, 4, 3, -3])"
      ],
      "outputs": [],
      "execution_count": 332,
      "metadata": {
        "collapsed": false,
        "jupyter": {
          "source_hidden": false,
          "outputs_hidden": false
        },
        "nteract": {
          "transient": {
            "deleting": false
          }
        },
        "execution": {
          "iopub.status.busy": "2020-04-02T20:40:09.419Z",
          "iopub.execute_input": "2020-04-02T20:40:09.429Z",
          "iopub.status.idle": "2020-04-02T20:40:09.447Z",
          "shell.execute_reply": "2020-04-02T20:40:09.457Z"
        }
      }
    },
    {
      "cell_type": "code",
      "source": [
        "vec2 = np.array([0, 2, -2, 10, 6, 0, 0])"
      ],
      "outputs": [],
      "execution_count": 333,
      "metadata": {
        "collapsed": false,
        "jupyter": {
          "source_hidden": false,
          "outputs_hidden": false
        },
        "nteract": {
          "transient": {
            "deleting": false
          }
        },
        "execution": {
          "iopub.status.busy": "2020-04-02T20:40:09.771Z",
          "iopub.execute_input": "2020-04-02T20:40:09.780Z",
          "iopub.status.idle": "2020-04-02T20:40:09.795Z",
          "shell.execute_reply": "2020-04-02T20:40:09.805Z"
        }
      }
    },
    {
      "cell_type": "code",
      "source": [
        "cosine_similarity(vec1, vec2)"
      ],
      "outputs": [
        {
          "output_type": "execute_result",
          "execution_count": 334,
          "data": {
            "text/plain": [
              "-0.25"
            ]
          },
          "metadata": {}
        }
      ],
      "execution_count": 334,
      "metadata": {
        "collapsed": false,
        "jupyter": {
          "source_hidden": false,
          "outputs_hidden": false
        },
        "nteract": {
          "transient": {
            "deleting": false
          }
        },
        "execution": {
          "iopub.status.busy": "2020-04-02T20:40:10.066Z",
          "iopub.execute_input": "2020-04-02T20:40:10.075Z",
          "iopub.status.idle": "2020-04-02T20:40:10.096Z",
          "shell.execute_reply": "2020-04-02T20:40:10.105Z"
        }
      }
    },
    {
      "cell_type": "code",
      "source": [],
      "outputs": [],
      "execution_count": null,
      "metadata": {
        "collapsed": false,
        "jupyter": {
          "source_hidden": false,
          "outputs_hidden": false
        },
        "nteract": {
          "transient": {
            "deleting": false
          }
        }
      }
    }
  ],
  "metadata": {
    "colab": {
      "name": "hw_numpy.ipynb",
      "provenance": []
    },
    "kernelspec": {
      "display_name": "Python 3",
      "language": "python",
      "name": "python3"
    },
    "language_info": {
      "name": "python",
      "version": "3.8.2",
      "mimetype": "text/x-python",
      "codemirror_mode": {
        "name": "ipython",
        "version": 3
      },
      "pygments_lexer": "ipython3",
      "nbconvert_exporter": "python",
      "file_extension": ".py"
    },
    "nteract": {
      "version": "0.22.0"
    }
  },
  "nbformat": 4,
  "nbformat_minor": 1
}